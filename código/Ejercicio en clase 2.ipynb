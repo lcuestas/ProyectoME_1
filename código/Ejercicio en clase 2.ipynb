{
 "cells": [
  {
   "cell_type": "code",
   "execution_count": null,
   "metadata": {},
   "outputs": [],
   "source": [
    "#### Importamos las librerias necesarias para el desarrollo del ejercicio\n",
    "### Antes instalamos las librerias necesarias en consola\n",
    "\n",
    "import matplotlib.pyplot as plt\n",
    "from sklearn import datasets\n",
    "from sklearn.linear_model import LogisticRegression\n",
    "# import some data to play with\n",
    "iris = datasets.load_iris()\n",
    "import pandas as pd\n",
    "# Creamos un dataframe con los datos de iris\n",
    "iris_df = pd.DataFrame(data=iris.data, columns=iris.feature_names)\n",
    "Y = iris.target\n",
    "### Serie de pandas para la variable dependiente\n",
    "Y_df = pd.Series(Y, name='species')\n",
    "DF_total= pd.concat([iris_df, Y_df], axis=1)\n",
    "modelo_log = LogisticRegression(random_state=42, max_iter=1000)"
   ]
  },
  {
   "cell_type": "code",
   "execution_count": null,
   "metadata": {},
   "outputs": [],
   "source": [
    "from sklearn.model_selection import train_test_split\n",
    "\n",
    "X_train, X_test, y_train, y_test = train_test_split(iris_df, Y_df, test_size=0.3, random_state=42)\n",
    "modelo_log.fit(X_train, y_train)"
   ]
  },
  {
   "cell_type": "code",
   "execution_count": null,
   "metadata": {},
   "outputs": [],
   "source": [
    "#Evaluación del modelo\n",
    "from sklearn.metrics import confusion_matrix\n",
    "confusion_matrix(y_test, modelo_log.predict(X_test))"
   ]
  },
  {
   "cell_type": "code",
   "execution_count": null,
   "metadata": {},
   "outputs": [],
   "source": [
    "Yi_df=pd.DataFrame(y_test)\n",
    "pred=pd.DataFrame(modelo_log.predict_proba(X_test),index=Yi_df.index) # tenenoos que fijar los indices de Y por que si no no me trae la ubicación de las observaciones de test\n",
    "DF_revisión=pd.concat([Yi_df,pred],axis=1)\n",
    "DF_revisión.columns = ['real', 'SPC1','SPC2','SPC3']\n",
    "DF_revisión"
   ]
  },
  {
   "cell_type": "code",
   "execution_count": null,
   "metadata": {},
   "outputs": [],
   "source": [
    "## Ejemplo Curva ROC\n",
    "\n",
    "## Histograma suavizado de las predicciones\n",
    "\n",
    "import seaborn as sns\n",
    "sns.histplot(data=DF_revisión, x=\"SPC1\", kde=True)\n",
    "plt.show()\n",
    "\n",
    "import seaborn as sns\n",
    "sns.histplot(data=DF_revisión, x=\"SPC2\", kde=True)\n",
    "plt.show()\n",
    "\n",
    "import seaborn as sns\n",
    "sns.histplot(data=DF_revisión, x=\"SPC3\", kde=True)\n",
    "plt.show()\n",
    "  "
   ]
  },
  {
   "cell_type": "code",
   "execution_count": null,
   "metadata": {},
   "outputs": [],
   "source": [
    "modelo_log.predict_proba(X_test)"
   ]
  },
  {
   "cell_type": "code",
   "execution_count": null,
   "metadata": {},
   "outputs": [],
   "source": [
    "from sklearn.metrics import roc_curve, roc_auc_score\n",
    "### Curva ROC\n",
    "y_pred_proba= modelo_log.predict_proba(X_test)\n",
    "\n",
    "## Curva ROC\n",
    "## Curva ROC\n",
    "\n",
    "fpr, tpr, thresholds = roc_curve(y_test, DF_revisión[:,1], pos_label='virginica')\n",
    "fprr, tprr, thresholdsr = roc_curve(y_test, DF_revisión[:,0], pos_label='setosa')\n",
    "fprrr, tprrr, thresholdsrr = roc_curve(y_test, DF_revisión[:,2], pos_label='versicolor')\n",
    "\n",
    "plt.plot(fprrr, tprrr, label='ROC curve versicolor')\n",
    "\n"
   ]
  }
 ],
 "metadata": {
  "kernelspec": {
   "display_name": "base",
   "language": "python",
   "name": "python3"
  },
  "language_info": {
   "codemirror_mode": {
    "name": "ipython",
    "version": 3
   },
   "file_extension": ".py",
   "mimetype": "text/x-python",
   "name": "python",
   "nbconvert_exporter": "python",
   "pygments_lexer": "ipython3",
   "version": "3.9.13"
  }
 },
 "nbformat": 4,
 "nbformat_minor": 2
}
